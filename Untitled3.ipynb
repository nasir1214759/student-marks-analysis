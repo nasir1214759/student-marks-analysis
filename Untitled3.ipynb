{
 "cells": [
  {
   "cell_type": "code",
   "execution_count": 1,
   "id": "922cef8a-55df-4621-a189-cfd8e61b5cb2",
   "metadata": {},
   "outputs": [
    {
     "name": "stdout",
     "output_type": "stream",
     "text": [
      "Name: pandas\n",
      "Version: 2.2.3\n",
      "Summary: Powerful data structures for data analysis, time series, and statistics\n",
      "Home-page: https://pandas.pydata.org\n",
      "Author: \n",
      "Author-email: The Pandas Development Team <pandas-dev@python.org>\n",
      "License: BSD 3-Clause License\n",
      "\n",
      " Copyright (c) 2008-2011, AQR Capital Management, LLC, Lambda Foundry, Inc. and PyData Development Team\n",
      " All rights reserved.\n",
      "\n",
      " Copyright (c) 2011-2023, Open source contributors.\n",
      "\n",
      " Redistribution and use in source and binary forms, with or without\n",
      " modification, are permitted provided that the following conditions are met:\n",
      "\n",
      " * Redistributions of source code must retain the above copyright notice, this\n",
      "   list of conditions and the following disclaimer.\n",
      "\n",
      " * Redistributions in binary form must reproduce the above copyright notice,\n",
      "   this list of conditions and the following disclaimer in the documentation\n",
      "   and/or other materials provided with the distribution.\n",
      "\n",
      " * Neither the name of the copyright holder nor the names of its\n",
      "   contributors may be used to endorse or promote products derived from\n",
      "   this software without specific prior written permission.\n",
      "\n",
      " THIS SOFTWARE IS PROVIDED BY THE COPYRIGHT HOLDERS AND CONTRIBUTORS \"AS IS\"\n",
      " AND ANY EXPRESS OR IMPLIED WARRANTIES, INCLUDING, BUT NOT LIMITED TO, THE\n",
      " IMPLIED WARRANTIES OF MERCHANTABILITY AND FITNESS FOR A PARTICULAR PURPOSE ARE\n",
      " DISCLAIMED. IN NO EVENT SHALL THE COPYRIGHT HOLDER OR CONTRIBUTORS BE LIABLE\n",
      " FOR ANY DIRECT, INDIRECT, INCIDENTAL, SPECIAL, EXEMPLARY, OR CONSEQUENTIAL\n",
      " DAMAGES (INCLUDING, BUT NOT LIMITED TO, PROCUREMENT OF SUBSTITUTE GOODS OR\n",
      " SERVICES; LOSS OF USE, DATA, OR PROFITS; OR BUSINESS INTERRUPTION) HOWEVER\n",
      " CAUSED AND ON ANY THEORY OF LIABILITY, WHETHER IN CONTRACT, STRICT LIABILITY,\n",
      " OR TORT (INCLUDING NEGLIGENCE OR OTHERWISE) ARISING IN ANY WAY OUT OF THE USE\n",
      " OF THIS SOFTWARE, EVEN IF ADVISED OF THE POSSIBILITY OF SUCH DAMAGE.\n",
      "\n",
      "Location: C:\\Users\\USER\\miniconda10\\Lib\\site-packages\n",
      "Requires: numpy, python-dateutil, pytz, tzdata\n",
      "Required-by: \n",
      "Name: numpy\n",
      "Version: 2.2.5\n",
      "Summary: Fundamental package for array computing in Python\n",
      "Home-page: https://numpy.org\n",
      "Author: Travis E. Oliphant et al.\n",
      "Author-email: \n",
      "License: Copyright (c) 2005-2024, NumPy Developers.\n",
      " All rights reserved.\n",
      "\n",
      " Redistribution and use in source and binary forms, with or without\n",
      " modification, are permitted provided that the following conditions are\n",
      " met:\n",
      "\n",
      "     * Redistributions of source code must retain the above copyright\n",
      "        notice, this list of conditions and the following disclaimer.\n",
      "\n",
      "     * Redistributions in binary form must reproduce the above\n",
      "        copyright notice, this list of conditions and the following\n",
      "        disclaimer in the documentation and/or other materials provided\n",
      "        with the distribution.\n",
      "\n",
      "     * Neither the name of the NumPy Developers nor the names of any\n",
      "        contributors may be used to endorse or promote products derived\n",
      "        from this software without specific prior written permission.\n",
      "\n",
      " THIS SOFTWARE IS PROVIDED BY THE COPYRIGHT HOLDERS AND CONTRIBUTORS\n",
      " \"AS IS\" AND ANY EXPRESS OR IMPLIED WARRANTIES, INCLUDING, BUT NOT\n",
      " LIMITED TO, THE IMPLIED WARRANTIES OF MERCHANTABILITY AND FITNESS FOR\n",
      " A PARTICULAR PURPOSE ARE DISCLAIMED. IN NO EVENT SHALL THE COPYRIGHT\n",
      " OWNER OR CONTRIBUTORS BE LIABLE FOR ANY DIRECT, INDIRECT, INCIDENTAL,\n",
      " SPECIAL, EXEMPLARY, OR CONSEQUENTIAL DAMAGES (INCLUDING, BUT NOT\n",
      " LIMITED TO, PROCUREMENT OF SUBSTITUTE GOODS OR SERVICES; LOSS OF USE,\n",
      " DATA, OR PROFITS; OR BUSINESS INTERRUPTION) HOWEVER CAUSED AND ON ANY\n",
      " THEORY OF LIABILITY, WHETHER IN CONTRACT, STRICT LIABILITY, OR TORT\n",
      " (INCLUDING NEGLIGENCE OR OTHERWISE) ARISING IN ANY WAY OUT OF THE USE\n",
      " OF THIS SOFTWARE, EVEN IF ADVISED OF THE POSSIBILITY OF SUCH DAMAGE.\n",
      "\n",
      "Location: C:\\Users\\USER\\miniconda10\\Lib\\site-packages\n",
      "Requires: \n",
      "Required-by: Bottleneck, contourpy, matplotlib, mkl_fft, mkl_random, numexpr, pandas\n",
      "Name: matplotlib\n",
      "Version: 3.10.0\n",
      "Summary: Python plotting package\n",
      "Home-page: https://matplotlib.org\n",
      "Author: John D. Hunter, Michael Droettboom\n",
      "Author-email: Unknown <matplotlib-users@python.org>\n",
      "License: License agreement for matplotlib versions 1.3.0 and later\n",
      " =========================================================\n",
      "\n",
      " 1. This LICENSE AGREEMENT is between the Matplotlib Development Team\n",
      " (\"MDT\"), and the Individual or Organization (\"Licensee\") accessing and\n",
      " otherwise using matplotlib software in source or binary form and its\n",
      " associated documentation.\n",
      "\n",
      " 2. Subject to the terms and conditions of this License Agreement, MDT\n",
      " hereby grants Licensee a nonexclusive, royalty-free, world-wide license\n",
      " to reproduce, analyze, test, perform and/or display publicly, prepare\n",
      " derivative works, distribute, and otherwise use matplotlib\n",
      " alone or in any derivative version, provided, however, that MDT's\n",
      " License Agreement and MDT's notice of copyright, i.e., \"Copyright (c)\n",
      " 2012- Matplotlib Development Team; All Rights Reserved\" are retained in\n",
      " matplotlib  alone or in any derivative version prepared by\n",
      " Licensee.\n",
      "\n",
      " 3. In the event Licensee prepares a derivative work that is based on or\n",
      " incorporates matplotlib or any part thereof, and wants to\n",
      " make the derivative work available to others as provided herein, then\n",
      " Licensee hereby agrees to include in any such work a brief summary of\n",
      " the changes made to matplotlib .\n",
      "\n",
      " 4. MDT is making matplotlib available to Licensee on an \"AS\n",
      " IS\" basis.  MDT MAKES NO REPRESENTATIONS OR WARRANTIES, EXPRESS OR\n",
      " IMPLIED.  BY WAY OF EXAMPLE, BUT NOT LIMITATION, MDT MAKES NO AND\n",
      " DISCLAIMS ANY REPRESENTATION OR WARRANTY OF MERCHANTABILITY OR FITNESS\n",
      " FOR ANY PARTICULAR PURPOSE OR THAT THE USE OF MATPLOTLIB\n",
      " WILL NOT INFRINGE ANY THIRD PARTY RIGHTS.\n",
      "\n",
      " 5. MDT SHALL NOT BE LIABLE TO LICENSEE OR ANY OTHER USERS OF MATPLOTLIB\n",
      "  FOR ANY INCIDENTAL, SPECIAL, OR CONSEQUENTIAL DAMAGES OR\n",
      " LOSS AS A RESULT OF MODIFYING, DISTRIBUTING, OR OTHERWISE USING\n",
      " MATPLOTLIB , OR ANY DERIVATIVE THEREOF, EVEN IF ADVISED OF\n",
      " THE POSSIBILITY THEREOF.\n",
      "\n",
      " 6. This License Agreement will automatically terminate upon a material\n",
      " breach of its terms and conditions.\n",
      "\n",
      " 7. Nothing in this License Agreement shall be deemed to create any\n",
      " relationship of agency, partnership, or joint venture between MDT and\n",
      " Licensee.  This License Agreement does not grant permission to use MDT\n",
      " trademarks or trade name in a trademark sense to endorse or promote\n",
      " products or services of Licensee, or any third party.\n",
      "\n",
      " 8. By copying, installing or otherwise using matplotlib ,\n",
      " Licensee agrees to be bound by the terms and conditions of this License\n",
      " Agreement.\n",
      "\n",
      " License agreement for matplotlib versions prior to 1.3.0\n",
      " ========================================================\n",
      "\n",
      " 1. This LICENSE AGREEMENT is between John D. Hunter (\"JDH\"), and the\n",
      " Individual or Organization (\"Licensee\") accessing and otherwise using\n",
      " matplotlib software in source or binary form and its associated\n",
      " documentation.\n",
      "\n",
      " 2. Subject to the terms and conditions of this License Agreement, JDH\n",
      " hereby grants Licensee a nonexclusive, royalty-free, world-wide license\n",
      " to reproduce, analyze, test, perform and/or display publicly, prepare\n",
      " derivative works, distribute, and otherwise use matplotlib\n",
      " alone or in any derivative version, provided, however, that JDH's\n",
      " License Agreement and JDH's notice of copyright, i.e., \"Copyright (c)\n",
      " 2002-2011 John D. Hunter; All Rights Reserved\" are retained in\n",
      " matplotlib  alone or in any derivative version prepared by\n",
      " Licensee.\n",
      "\n",
      " 3. In the event Licensee prepares a derivative work that is based on or\n",
      " incorporates matplotlib  or any part thereof, and wants to\n",
      " make the derivative work available to others as provided herein, then\n",
      " Licensee hereby agrees to include in any such work a brief summary of\n",
      " the changes made to matplotlib.\n",
      "\n",
      " 4. JDH is making matplotlib  available to Licensee on an \"AS\n",
      " IS\" basis.  JDH MAKES NO REPRESENTATIONS OR WARRANTIES, EXPRESS OR\n",
      " IMPLIED.  BY WAY OF EXAMPLE, BUT NOT LIMITATION, JDH MAKES NO AND\n",
      " DISCLAIMS ANY REPRESENTATION OR WARRANTY OF MERCHANTABILITY OR FITNESS\n",
      " FOR ANY PARTICULAR PURPOSE OR THAT THE USE OF MATPLOTLIB\n",
      " WILL NOT INFRINGE ANY THIRD PARTY RIGHTS.\n",
      "\n",
      " 5. JDH SHALL NOT BE LIABLE TO LICENSEE OR ANY OTHER USERS OF MATPLOTLIB\n",
      "  FOR ANY INCIDENTAL, SPECIAL, OR CONSEQUENTIAL DAMAGES OR\n",
      " LOSS AS A RESULT OF MODIFYING, DISTRIBUTING, OR OTHERWISE USING\n",
      " MATPLOTLIB , OR ANY DERIVATIVE THEREOF, EVEN IF ADVISED OF\n",
      " THE POSSIBILITY THEREOF.\n",
      "\n",
      " 6. This License Agreement will automatically terminate upon a material\n",
      " breach of its terms and conditions.\n",
      "\n",
      " 7. Nothing in this License Agreement shall be deemed to create any\n",
      " relationship of agency, partnership, or joint venture between JDH and\n",
      " Licensee.  This License Agreement does not grant permission to use JDH\n",
      " trademarks or trade name in a trademark sense to endorse or promote\n",
      " products or services of Licensee, or any third party.\n",
      "\n",
      " 8. By copying, installing or otherwise using matplotlib,\n",
      " Licensee agrees to be bound by the terms and conditions of this License\n",
      " Agreement.\n",
      "Location: C:\\Users\\USER\\miniconda10\\Lib\\site-packages\n",
      "Requires: contourpy, cycler, fonttools, kiwisolver, numpy, packaging, pillow, pyparsing, python-dateutil\n",
      "Required-by: \n"
     ]
    }
   ],
   "source": [
    "!pip show pandas\n",
    "!pip show numpy\n",
    "!pip show matplotlib\n"
   ]
  },
  {
   "cell_type": "code",
   "execution_count": null,
   "id": "a21cc664-341f-4e5f-8b20-4b9bbaed06b5",
   "metadata": {},
   "outputs": [],
   "source": [
    "!pip show pandas\n",
    "!pip show numpy\n",
    "!pip show matplotlib"
   ]
  },
  {
   "cell_type": "code",
   "execution_count": 2,
   "id": "b847dc73-7445-4ea5-b11c-531594c19009",
   "metadata": {},
   "outputs": [
    {
     "name": "stdout",
     "output_type": "stream",
     "text": [
      "C:\\Users\\USER\\miniconda10\\Lib\\site-packages\\pandas\\__init__.py\n"
     ]
    }
   ],
   "source": [
    "import pandas\n",
    "print(pandas.__file__)\n",
    "\n"
   ]
  },
  {
   "cell_type": "code",
   "execution_count": 3,
   "id": "35623259-1e94-4eda-9f6a-9bfc002d98b2",
   "metadata": {},
   "outputs": [
    {
     "name": "stdout",
     "output_type": "stream",
     "text": [
      "     Name  Math  Science  Average\n",
      "0     Ali    88       90     89.0\n",
      "1    Sara    92       94     93.0\n",
      "2   Ahmed    76       80     78.0\n",
      "3  Fatima    85       89     87.0\n"
     ]
    }
   ],
   "source": [
    "import pandas as pd\n",
    "import numpy as np\n",
    "import matplotlib.pyplot as plt\n",
    "\n",
    "# Student Data\n",
    "data = {\n",
    "    'Name': ['Ali', 'Sara', 'Ahmed', 'Fatima'],\n",
    "    'Math': [88, 92, 76, 85],\n",
    "    'Science': [90, 94, 80, 89]\n",
    "}\n",
    "\n",
    "df = pd.DataFrame(data)\n",
    "df['Average'] = df[['Math', 'Science']].mean(axis=1)\n",
    "print(df)\n"
   ]
  },
  {
   "cell_type": "code",
   "execution_count": 4,
   "id": "2a18b2f0-7624-444e-bda3-76c965edceda",
   "metadata": {},
   "outputs": [
    {
     "name": "stdout",
     "output_type": "stream",
     "text": [
      "Topper Student:\n",
      " Name       Sara\n",
      "Math         92\n",
      "Science      94\n",
      "Average    93.0\n",
      "Name: 1, dtype: object\n"
     ]
    }
   ],
   "source": [
    "topper = df.loc[df['Average'].idxmax()]\n",
    "print(\"Topper Student:\\n\", topper)\n"
   ]
  },
  {
   "cell_type": "code",
   "execution_count": 5,
   "id": "92fd32a2-35a5-426a-8433-53f1d2012e62",
   "metadata": {},
   "outputs": [
    {
     "data": {
      "image/png": "[encoded data removed]",
      "text/plain": [
       "<Figure size 800x500 with 1 Axes>"
      ]
     },
     "metadata": {},
     "output_type": "display_data"
    }
   ],
   "source": [
    "plt.figure(figsize=(8, 5))\n",
    "plt.bar(df['Name'], df['Average'], color='skyblue')\n",
    "plt.title('Student Average Marks')\n",
    "plt.xlabel('Name')\n",
    "plt.ylabel('Average Marks')\n",
    "plt.grid(True)\n",
    "plt.show()\n"
   ]
  },
  {
   "cell_type": "code",
   "execution_count": 6,
   "id": "7b909d1c-87df-4aff-b20e-1042ec3fbd3a",
   "metadata": {},
   "outputs": [
    {
     "name": "stdout",
     "output_type": "stream",
     "text": [
      "Data CSV file ke form mein save ho gaya.\n"
     ]
    }
   ],
   "source": [
    "df.to_csv('student_marks_analysis.csv', index=False)\n",
    "print(\"Data CSV file ke form mein save ho gaya.\")\n"
   ]
  },
  {
   "cell_type": "code",
   "execution_count": 7,
   "id": "4089f393-d071-434e-8f28-1bb8f9ad34f5",
   "metadata": {},
   "outputs": [
    {
     "name": "stdout",
     "output_type": "stream",
     "text": [
      "Subject-wise Averages:\n",
      " Math       85.25\n",
      "Science    88.25\n",
      "dtype: float64\n"
     ]
    }
   ],
   "source": [
    "subject_avg = df[['Math', 'Science']].mean()\n",
    "print(\"Subject-wise Averages:\\n\", subject_avg)\n",
    "\n"
   ]
  },
  {
   "cell_type": "markdown",
   "id": "68056041-1b3a-4398-bce5-9e5cb2ba599e",
   "metadata": {},
   "source": [
    "df['Result'] = df['Average'].apply(lambda x: 'Pass' if x >= 40 else 'Fail')\n",
    "print(df)\n"
   ]
  },
  {
   "cell_type": "code",
   "execution_count": 9,
   "id": "468ccf56-2ccd-4d8e-9890-c1b9954bf482",
   "metadata": {},
   "outputs": [
    {
     "ename": "SyntaxError",
     "evalue": "invalid syntax (2487391429.py, line 2)",
     "output_type": "error",
     "traceback": [
      "  \u001b[36mCell\u001b[39m\u001b[36m \u001b[39m\u001b[32mIn[9]\u001b[39m\u001b[32m, line 2\u001b[39m\n\u001b[31m    \u001b[39m\u001b[31mIs project mein hum kuch students ke Maths aur Science ke marks ko analyze karenge.\u001b[39m\n       ^\n\u001b[31mSyntaxError\u001b[39m\u001b[31m:\u001b[39m invalid syntax\n"
     ]
    }
   ],
   "source": [
    "# Project: Student Marks Analysis System\n",
    "Is project mein hum kuch students ke Maths aur Science ke marks ko analyze karenge.\n",
    "Hum calculate karenge:\n",
    "- Average marks\n",
    "- Result (Pass/Fail)\n",
    "- Subject-wise performance\n",
    "- Topper student\n",
    "- Data visualization with charts\n"
   ]
  },
  {
   "cell_type": "markdown",
   "id": "061219b8-341e-4dc6-9043-0d5be21ba3fd",
   "metadata": {},
   "source": []
  },
  {
   "cell_type": "code",
   "execution_count": 10,
   "id": "615173eb-cd10-49b8-8930-b4b0f199ec5b",
   "metadata": {},
   "outputs": [],
   "source": [
    "import pandas as pd\n",
    "import matplotlib.pyplot as plt\n",
    "\n",
    "# Sample data\n",
    "data = {\n",
    "    'Name': ['Ali', 'Sara', 'Ahmed', 'Fatima'],\n",
    "    'Math': [88, 92, 76, 85],\n",
    "    'Science': [90, 94, 80, 89]\n",
    "}\n",
    "\n",
    "# DataFrame\n",
    "df = pd.DataFrame(data)\n"
   ]
  },
  {
   "cell_type": "code",
   "execution_count": null,
   "id": "e2111f53-da90-4a54-805f-78bb693cd1dd",
   "metadata": {},
   "outputs": [],
   "source": [
    "\n"
   ]
  },
  {
   "cell_type": "code",
   "execution_count": null,
   "id": "e2f223bb-550f-44f0-a3bb-8314dec054cf",
   "metadata": {},
   "outputs": [],
   "source": [
    "\n"
   ]
  }
 ],
 "metadata": {
  "kernelspec": {
   "display_name": "Python 3 (ipykernel)",
   "language": "python",
   "name": "python3"
  },
  "language_info": {
   "codemirror_mode": {
    "name": "ipython",
    "version": 3
   },
   "file_extension": ".py",
   "mimetype": "text/x-python",
   "name": "python",
   "nbconvert_exporter": "python",
   "pygments_lexer": "ipython3",
   "version": "3.13.2"
  }
 },
 "nbformat": 4,
 "nbformat_minor": 5
}
